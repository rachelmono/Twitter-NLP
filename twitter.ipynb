{
 "cells": [
  {
   "cell_type": "markdown",
   "metadata": {},
   "source": [
    "### Find users"
   ]
  },
  {
   "cell_type": "code",
   "execution_count": 5,
   "metadata": {},
   "outputs": [],
   "source": [
    "import time\n",
    "import re\n",
    "import pandas as pd\n",
    "import nltk\n",
    "from nltk.stem.porter import *\n",
    "# from wordcloud import WordCloud, STOPWORDS\n",
    "import matplotlib.pyplot as plt\n",
    "import seaborn as sns\n",
    "sns.set()\n",
    "%matplotlib inline\n",
    "\n",
    "import warnings \n",
    "warnings.filterwarnings(\"ignore\", category=DeprecationWarning)"
   ]
  },
  {
   "cell_type": "code",
   "execution_count": 6,
   "metadata": {},
   "outputs": [],
   "source": [
    "import sys\n",
    "import tweepy\n",
    "import csv\n",
    "\n",
    "consumer_key = 'iyGs7DyQh8KKzv6iRnXfeRfnJ'\n",
    "consumer_secret = '3XKqRsSLzrBpP6tWLvQNzpL524jEGgUqIkNIS1Ou4deB567wvw'\n",
    "access_token = '1300342759681794050-8pyUlMtaxZEpSxHFpFxkeYTehsn7Gd'\n",
    "access_token_secret = 'IjajWppeVkMHdLazOMDv06ftUuumCTHgbRDFfiqelmCMw'\n",
    "\n",
    "auth = tweepy.OAuthHandler(consumer_key, consumer_secret)\n",
    "auth.set_access_token(access_token, access_token_secret)\n",
    "\n",
    "api = tweepy.API(auth,wait_on_rate_limit=True)"
   ]
  },
  {
   "cell_type": "code",
   "execution_count": 7,
   "metadata": {},
   "outputs": [],
   "source": [
    "def remove_url(txt):\n",
    "    \"\"\"Replace URLs found in a text string with nothing \n",
    "    (i.e. it will remove the URL from the string).\n",
    "\n",
    "    Parameters\n",
    "    ----------\n",
    "    txt : string\n",
    "        A text string that you want to parse and remove urls.\n",
    "\n",
    "    Returns\n",
    "    -------\n",
    "    The same txt string with url's removed.\n",
    "    \"\"\"\n",
    "\n",
    "    return \" \".join(re.sub(\"([^0-9A-Za-z \\t])|(\\w+:\\/\\/\\S+)\", \"\", txt).split())"
   ]
  },
  {
   "cell_type": "code",
   "execution_count": 9,
   "metadata": {},
   "outputs": [],
   "source": [
    "# Define the search term and the date_since date as variables\n",
    "search_words = 'remotework'\n",
    "#filter retweets\n",
    "new_search = str(search_words) + \" -filter:retweets\"\n",
    "date_since = \"2020-03-01\"\n",
    "#Collect tweets\n",
    "tweets = tweepy.Cursor(api.search,\n",
    "              q=new_search,\n",
    "              lang=\"en\",\n",
    "              since=date_since).items(400)\n",
    "tweets_df"
   ]
  },
  {
   "cell_type": "code",
   "execution_count": 10,
   "metadata": {},
   "outputs": [
    {
     "data": {
      "text/plain": [
       "<tweepy.cursor.ItemIterator at 0x25db087d908>"
      ]
     },
     "execution_count": 10,
     "metadata": {},
     "output_type": "execute_result"
    }
   ],
   "source": [
    "tweets"
   ]
  },
  {
   "cell_type": "code",
   "execution_count": 25,
   "metadata": {},
   "outputs": [],
   "source": [
    "# Define the search term and the date_since date as variables\n",
    "search_words = 'remotework'\n",
    "#filter retweets\n",
    "new_search = str(search_words) + \" -filter:retweets\"\n",
    "date_since = \"2020-03-01\"\n",
    "Collect tweets\n",
    "tweets = tweepy.Cursor(api.search,\n",
    "              q=new_search,\n",
    "              lang=\"en\",\n",
    "              since=date_since).items(400)\n",
    "\n",
    "# Iterate and print tweets\n",
    "tweets = tweepy.Cursor(api.search, \n",
    "                           q=new_search,\n",
    "                           lang=\"en\",\n",
    "                           since=date_since).items(800)\n",
    "users_locs = [[tweet.user.screen_name,tweet.user.location] for tweet in tweets]"
   ]
  },
  {
   "cell_type": "code",
   "execution_count": 26,
   "metadata": {},
   "outputs": [
    {
     "data": {
      "text/html": [
       "<div>\n",
       "<style scoped>\n",
       "    .dataframe tbody tr th:only-of-type {\n",
       "        vertical-align: middle;\n",
       "    }\n",
       "\n",
       "    .dataframe tbody tr th {\n",
       "        vertical-align: top;\n",
       "    }\n",
       "\n",
       "    .dataframe thead th {\n",
       "        text-align: right;\n",
       "    }\n",
       "</style>\n",
       "<table border=\"1\" class=\"dataframe\">\n",
       "  <thead>\n",
       "    <tr style=\"text-align: right;\">\n",
       "      <th></th>\n",
       "      <th>index</th>\n",
       "      <th>user_account</th>\n",
       "      <th>location</th>\n",
       "    </tr>\n",
       "  </thead>\n",
       "  <tbody>\n",
       "    <tr>\n",
       "      <td>0</td>\n",
       "      <td>0</td>\n",
       "      <td>TheHackersNews</td>\n",
       "      <td>The Internet</td>\n",
       "    </tr>\n",
       "    <tr>\n",
       "      <td>1</td>\n",
       "      <td>1</td>\n",
       "      <td>PM_Results</td>\n",
       "      <td>Surrey UK</td>\n",
       "    </tr>\n",
       "    <tr>\n",
       "      <td>2</td>\n",
       "      <td>2</td>\n",
       "      <td>sspaeti</td>\n",
       "      <td>Solothurn, Switzerland</td>\n",
       "    </tr>\n",
       "    <tr>\n",
       "      <td>3</td>\n",
       "      <td>4</td>\n",
       "      <td>TravelMedia_ie</td>\n",
       "      <td>Dublin, London, Europe</td>\n",
       "    </tr>\n",
       "    <tr>\n",
       "      <td>4</td>\n",
       "      <td>5</td>\n",
       "      <td>codecidedotnet</td>\n",
       "      <td>Chicago, IL</td>\n",
       "    </tr>\n",
       "    <tr>\n",
       "      <td>...</td>\n",
       "      <td>...</td>\n",
       "      <td>...</td>\n",
       "      <td>...</td>\n",
       "    </tr>\n",
       "    <tr>\n",
       "      <td>415</td>\n",
       "      <td>789</td>\n",
       "      <td>davidmdye</td>\n",
       "      <td>ÜT: 45.567124,-122.536006</td>\n",
       "    </tr>\n",
       "    <tr>\n",
       "      <td>416</td>\n",
       "      <td>791</td>\n",
       "      <td>Homervshomer</td>\n",
       "      <td></td>\n",
       "    </tr>\n",
       "    <tr>\n",
       "      <td>417</td>\n",
       "      <td>797</td>\n",
       "      <td>technossus</td>\n",
       "      <td>Orange County, California</td>\n",
       "    </tr>\n",
       "    <tr>\n",
       "      <td>418</td>\n",
       "      <td>798</td>\n",
       "      <td>samespinosa_mmc</td>\n",
       "      <td>Phoenix, Arizona</td>\n",
       "    </tr>\n",
       "    <tr>\n",
       "      <td>419</td>\n",
       "      <td>799</td>\n",
       "      <td>ITGURUSATL</td>\n",
       "      <td>Atlanta, GA</td>\n",
       "    </tr>\n",
       "  </tbody>\n",
       "</table>\n",
       "<p>420 rows × 3 columns</p>\n",
       "</div>"
      ],
      "text/plain": [
       "     index     user_account                    location\n",
       "0        0   TheHackersNews                The Internet\n",
       "1        1       PM_Results                   Surrey UK\n",
       "2        2          sspaeti      Solothurn, Switzerland\n",
       "3        4   TravelMedia_ie      Dublin, London, Europe\n",
       "4        5   codecidedotnet                 Chicago, IL\n",
       "..     ...              ...                         ...\n",
       "415    789        davidmdye   ÜT: 45.567124,-122.536006\n",
       "416    791     Homervshomer                            \n",
       "417    797       technossus  Orange County, California \n",
       "418    798  samespinosa_mmc            Phoenix, Arizona\n",
       "419    799       ITGURUSATL                 Atlanta, GA\n",
       "\n",
       "[420 rows x 3 columns]"
      ]
     },
     "execution_count": 26,
     "metadata": {},
     "output_type": "execute_result"
    }
   ],
   "source": [
    "users_locs = pd.DataFrame(data=users_locs, \n",
    "                    columns=['user_account',\"location\"])\n",
    "users_locs=users_locs.drop_duplicates().reset_index()\n",
    "users_locs"
   ]
  },
  {
   "cell_type": "code",
   "execution_count": 27,
   "metadata": {},
   "outputs": [],
   "source": [
    "a = [i for i in users_locs['user_account'] if 'remote' in i]\n",
    "users_locs=users_locs[~users_locs.user_account.isin(a)]"
   ]
  },
  {
   "cell_type": "code",
   "execution_count": 28,
   "metadata": {},
   "outputs": [],
   "source": [
    "b=[i for i in users_locs['user_account'] if 'job' in i]\n",
    "users_locs=users_locs[~users_locs.user_account.isin(b)]"
   ]
  },
  {
   "cell_type": "code",
   "execution_count": 29,
   "metadata": {},
   "outputs": [],
   "source": [
    "c = [i for i in users_locs['user_account'] if 'Remote' in i]\n",
    "users_locs=users_locs[~users_locs.user_account.isin(c)]"
   ]
  },
  {
   "cell_type": "code",
   "execution_count": 30,
   "metadata": {},
   "outputs": [],
   "source": [
    "d = [i for i in users_locs['user_account'] if 'Job' in i]\n",
    "users_locs=users_locs[~users_locs.user_account.isin(d)]"
   ]
  },
  {
   "cell_type": "code",
   "execution_count": 38,
   "metadata": {},
   "outputs": [],
   "source": [
    "e= [i for i in users_locs['user_account'] if 'Code' in i]\n",
    "users_locs=users_locs[~users_locs.user_account.isin(e)]\n",
    "f= [i for i in users_locs['user_account'] if 'code' in i]\n",
    "users_locs=users_locs[~users_locs.user_account.isin(f)]\n",
    "g= [i for i in users_locs['user_account'] if 'News' in i]\n",
    "users_locs=users_locs[~users_locs.user_account.isin(g)]"
   ]
  },
  {
   "cell_type": "code",
   "execution_count": 48,
   "metadata": {
    "scrolled": false
   },
   "outputs": [],
   "source": [
    "# for i in users_locs['user_account']:\n",
    "# # username = 'hdavisiii'\n",
    "#     username = i\n",
    "#     print(username)"
   ]
  },
  {
   "cell_type": "code",
   "execution_count": 2,
   "metadata": {},
   "outputs": [
    {
     "data": {
      "text/plain": [
       "0           PM_Results\n",
       "1              sspaeti\n",
       "2       TravelMedia_ie\n",
       "3            cygnetcic\n",
       "4        DannyEdoBrien\n",
       "            ...       \n",
       "377          davidmdye\n",
       "378       Homervshomer\n",
       "379         technossus\n",
       "380    samespinosa_mmc\n",
       "381         ITGURUSATL\n",
       "Name: user_account, Length: 382, dtype: object"
      ]
     },
     "execution_count": 2,
     "metadata": {},
     "output_type": "execute_result"
    }
   ],
   "source": [
    "users_locs['user_account']"
   ]
  },
  {
   "cell_type": "code",
   "execution_count": null,
   "metadata": {
    "scrolled": true
   },
   "outputs": [],
   "source": [
    "tweets_df.shape"
   ]
  },
  {
   "cell_type": "code",
   "execution_count": null,
   "metadata": {
    "scrolled": false
   },
   "outputs": [],
   "source": [
    "tweets_df.to_csv('summary')"
   ]
  },
  {
   "cell_type": "code",
   "execution_count": null,
   "metadata": {},
   "outputs": [],
   "source": []
  },
  {
   "cell_type": "code",
   "execution_count": 99,
   "metadata": {},
   "outputs": [],
   "source": [
    "import GetOldTweets3 as got\n",
    "import pandas as pd\n",
    "\n",
    "# username = 'hdavisiii'\n",
    "language = 'en'\n",
    "key = 'remotework'\n",
    "since_date = \"2019-12-01\"\n",
    "until_date = \"2020-01-13\"\n",
    "geocode=\"LosAngeles\"\n",
    "count=10000\n",
    "\n",
    "tweetCriteria = got.manager.TweetCriteria().setQuerySearch(key).setLang(language)\\\n",
    ".setMaxTweets(count).setNear(geocode).setSince(since_date).setUntil(until_date)\n",
    "\n",
    "# Creation of tweets iterable containing all queried tweet data\n",
    "tweets = got.manager.TweetManager.getTweets(tweetCriteria)\n",
    "\n",
    "# List comprehension pulling chosen tweet information from tweets\n",
    "# Add or remove tweet information you want in the below list comprehension\n",
    "tweets_list = [[tweet.username, tweet.text, tweet.retweets, tweet.favorites, tweet.replies, tweet.date, tweet.formatted_date, tweet.hashtags,  tweet.permalink,] for tweet in tweets]\n",
    " \n",
    "\n",
    "# Creation of dataframe from tweets_list\n",
    "# Did not include column names to simplify code\n",
    "tweets_df = pd.DataFrame(tweets_list)\n"
   ]
  },
  {
   "cell_type": "code",
   "execution_count": 100,
   "metadata": {},
   "outputs": [],
   "source": [
    "tweets_df = pd.DataFrame(tweets_list, columns = ['Tweet User',  'Text', 'Retweets', 'Favorites', 'Replies', 'Datetime', 'FormattedDate', 'Hashtags',  'Permalink'])"
   ]
  },
  {
   "cell_type": "code",
   "execution_count": 101,
   "metadata": {},
   "outputs": [
    {
     "data": {
      "text/plain": [
       "(10000, 9)"
      ]
     },
     "execution_count": 101,
     "metadata": {},
     "output_type": "execute_result"
    }
   ],
   "source": [
    "tweets_df.shape"
   ]
  },
  {
   "cell_type": "code",
   "execution_count": 102,
   "metadata": {},
   "outputs": [],
   "source": [
    "tweets_df=tweets_df[tweets_df['Hashtags'] !='']"
   ]
  },
  {
   "cell_type": "code",
   "execution_count": 103,
   "metadata": {
    "scrolled": true
   },
   "outputs": [
    {
     "data": {
      "text/plain": [
       "(6712, 9)"
      ]
     },
     "execution_count": 103,
     "metadata": {},
     "output_type": "execute_result"
    }
   ],
   "source": [
    "tweets_df.shape"
   ]
  },
  {
   "cell_type": "code",
   "execution_count": 105,
   "metadata": {},
   "outputs": [
    {
     "data": {
      "text/plain": [
       "<bound method Series.sort_values of 2      2020-01-12 23:59:01+00:00\n",
       "3      2020-01-12 23:53:16+00:00\n",
       "4      2020-01-12 23:51:04+00:00\n",
       "6      2020-01-12 23:29:14+00:00\n",
       "7      2020-01-12 23:28:00+00:00\n",
       "                  ...           \n",
       "9992   2019-12-19 11:00:05+00:00\n",
       "9994   2019-12-19 10:51:07+00:00\n",
       "9995   2019-12-19 10:33:00+00:00\n",
       "9998   2019-12-19 10:17:04+00:00\n",
       "9999   2019-12-19 10:13:59+00:00\n",
       "Name: Datetime, Length: 6712, dtype: datetime64[ns, UTC]>"
      ]
     },
     "execution_count": 105,
     "metadata": {},
     "output_type": "execute_result"
    }
   ],
   "source": [
    "tweets_df['Datetime'].sort_values"
   ]
  },
  {
   "cell_type": "code",
   "execution_count": 106,
   "metadata": {},
   "outputs": [],
   "source": [
    "tweets_df.to_csv('b5.csv', index=False)"
   ]
  },
  {
   "cell_type": "code",
   "execution_count": 107,
   "metadata": {},
   "outputs": [],
   "source": [
    "b5=pd.read_csv(r'b5.csv')"
   ]
  },
  {
   "cell_type": "code",
   "execution_count": 91,
   "metadata": {
    "scrolled": true
   },
   "outputs": [
    {
     "data": {
      "text/plain": [
       "6646    2020-01-14 21:03:00+00:00\n",
       "6645    2020-01-14 21:03:22+00:00\n",
       "6643    2020-01-14 21:05:00+00:00\n",
       "6642    2020-01-14 21:05:05+00:00\n",
       "6641    2020-01-14 21:11:12+00:00\n",
       "                  ...            \n",
       "958     2020-08-27 22:49:19+00:00\n",
       "5668    2020-08-27 22:49:19+00:00\n",
       "5387    2020-08-27 22:49:19+00:00\n",
       "5243    2020-08-27 22:49:19+00:00\n",
       "1426    2020-09-01 17:23:48+00:00\n",
       "Name: Datetime, Length: 6647, dtype: object"
      ]
     },
     "execution_count": 91,
     "metadata": {},
     "output_type": "execute_result"
    }
   ],
   "source": [
    "b4['Datetime'].sort_values()"
   ]
  },
  {
   "cell_type": "code",
   "execution_count": 97,
   "metadata": {},
   "outputs": [],
   "source": [
    "df=pd.concat([b1, b2, b3, b4])"
   ]
  },
  {
   "cell_type": "code",
   "execution_count": 109,
   "metadata": {},
   "outputs": [],
   "source": [
    "df=pd.concat([df,b5])"
   ]
  },
  {
   "cell_type": "code",
   "execution_count": 110,
   "metadata": {},
   "outputs": [
    {
     "data": {
      "text/plain": [
       "(28326, 9)"
      ]
     },
     "execution_count": 110,
     "metadata": {},
     "output_type": "execute_result"
    }
   ],
   "source": [
    "df.shape"
   ]
  },
  {
   "cell_type": "code",
   "execution_count": 111,
   "metadata": {},
   "outputs": [],
   "source": [
    "df.to_csv(r'all.csv', index=False)"
   ]
  },
  {
   "cell_type": "code",
   "execution_count": 64,
   "metadata": {},
   "outputs": [],
   "source": [
    "b2=pd.read_csv(r'b2.csv')"
   ]
  },
  {
   "cell_type": "code",
   "execution_count": 67,
   "metadata": {
    "scrolled": true
   },
   "outputs": [
    {
     "name": "stdout",
     "output_type": "stream",
     "text": [
      "(2122, 9) (6254, 9) (7795, 10)\n"
     ]
    }
   ],
   "source": [
    "print(b1.shape,b2.shape, twitter.shape)"
   ]
  },
  {
   "cell_type": "code",
   "execution_count": 71,
   "metadata": {},
   "outputs": [
    {
     "data": {
      "text/plain": [
       "<bound method Series.sort_values of 0       2020-02-29 23:57:12+00:00\n",
       "1       2020-02-29 23:38:04+00:00\n",
       "2       2020-02-29 23:27:05+00:00\n",
       "3       2020-02-29 23:23:14+00:00\n",
       "4       2020-02-29 23:20:13+00:00\n",
       "                  ...            \n",
       "6249    2020-02-17 04:53:02+00:00\n",
       "6250    2020-02-17 04:50:02+00:00\n",
       "6251    2020-02-17 04:47:00+00:00\n",
       "6252    2020-02-17 04:46:43+00:00\n",
       "6253    2020-02-17 04:33:22+00:00\n",
       "Name: Datetime, Length: 6254, dtype: object>"
      ]
     },
     "execution_count": 71,
     "metadata": {},
     "output_type": "execute_result"
    }
   ],
   "source": [
    "b2['Datetime'].sort_values"
   ]
  },
  {
   "cell_type": "code",
   "execution_count": null,
   "metadata": {},
   "outputs": [],
   "source": []
  },
  {
   "cell_type": "code",
   "execution_count": 2,
   "metadata": {},
   "outputs": [],
   "source": [
    "import pandas as pd\n",
    "twitter=pd.read_csv(r'after_covid.csv')"
   ]
  },
  {
   "cell_type": "code",
   "execution_count": 3,
   "metadata": {},
   "outputs": [
    {
     "name": "stdout",
     "output_type": "stream",
     "text": [
      "<class 'pandas.core.frame.DataFrame'>\n",
      "RangeIndex: 7795 entries, 0 to 7794\n",
      "Data columns (total 10 columns):\n",
      "Unnamed: 0       7795 non-null int64\n",
      "Tweet User       7795 non-null object\n",
      "Text             7795 non-null object\n",
      "Retweets         7795 non-null int64\n",
      "Favorites        7795 non-null int64\n",
      "Replies          7795 non-null int64\n",
      "Datetime         7795 non-null object\n",
      "FormattedDate    7795 non-null object\n",
      "Hashtags         7795 non-null object\n",
      "Permalink        7795 non-null object\n",
      "dtypes: int64(4), object(6)\n",
      "memory usage: 609.1+ KB\n"
     ]
    }
   ],
   "source": [
    "twitter.info()"
   ]
  },
  {
   "cell_type": "code",
   "execution_count": 4,
   "metadata": {},
   "outputs": [],
   "source": [
    "twitter['Text']=twitter['Text'].drop_duplicates()"
   ]
  },
  {
   "cell_type": "code",
   "execution_count": 7,
   "metadata": {},
   "outputs": [
    {
     "data": {
      "text/html": [
       "<div>\n",
       "<style scoped>\n",
       "    .dataframe tbody tr th:only-of-type {\n",
       "        vertical-align: middle;\n",
       "    }\n",
       "\n",
       "    .dataframe tbody tr th {\n",
       "        vertical-align: top;\n",
       "    }\n",
       "\n",
       "    .dataframe thead th {\n",
       "        text-align: right;\n",
       "    }\n",
       "</style>\n",
       "<table border=\"1\" class=\"dataframe\">\n",
       "  <thead>\n",
       "    <tr style=\"text-align: right;\">\n",
       "      <th></th>\n",
       "      <th>Unnamed: 0</th>\n",
       "      <th>Tweet User</th>\n",
       "      <th>Text</th>\n",
       "      <th>Retweets</th>\n",
       "      <th>Favorites</th>\n",
       "      <th>Replies</th>\n",
       "      <th>Datetime</th>\n",
       "      <th>FormattedDate</th>\n",
       "      <th>Hashtags</th>\n",
       "      <th>Permalink</th>\n",
       "    </tr>\n",
       "  </thead>\n",
       "  <tbody>\n",
       "    <tr>\n",
       "      <td>0</td>\n",
       "      <td>0</td>\n",
       "      <td>Homeys</td>\n",
       "      <td>Working from Homeys - Although, we do take our...</td>\n",
       "      <td>0</td>\n",
       "      <td>0</td>\n",
       "      <td>0</td>\n",
       "      <td>2019-09-24</td>\n",
       "      <td>Tue Sep 24 09:30:00 +0000 2019</td>\n",
       "      <td>#WFHomeys #MyHomeys #British #UkFashion #SoCom...</td>\n",
       "      <td>https://twitter.com/Homeys/status/117642856025...</td>\n",
       "    </tr>\n",
       "    <tr>\n",
       "      <td>1</td>\n",
       "      <td>1</td>\n",
       "      <td>JordanTechPro</td>\n",
       "      <td>Today’s #crumbshot and a delicious ham and che...</td>\n",
       "      <td>0</td>\n",
       "      <td>0</td>\n",
       "      <td>0</td>\n",
       "      <td>2019-09-05</td>\n",
       "      <td>Thu Sep 05 12:18:22 +0000 2019</td>\n",
       "      <td>#crumbshot #SourdoughSeptember #workingfromhom...</td>\n",
       "      <td>https://twitter.com/JordanTechPro/status/11695...</td>\n",
       "    </tr>\n",
       "    <tr>\n",
       "      <td>2</td>\n",
       "      <td>2</td>\n",
       "      <td>mitzi_gesabel</td>\n",
       "      <td>Working in my Tiger onesie and feeling fierce....</td>\n",
       "      <td>0</td>\n",
       "      <td>0</td>\n",
       "      <td>0</td>\n",
       "      <td>2019-10-28</td>\n",
       "      <td>Mon Oct 28 18:59:51 +0000 2019</td>\n",
       "      <td>#workingfromhome #wfh #pjsallday</td>\n",
       "      <td>https://twitter.com/mitzi_gesabel/status/11888...</td>\n",
       "    </tr>\n",
       "    <tr>\n",
       "      <td>3</td>\n",
       "      <td>3</td>\n",
       "      <td>writer_SDW</td>\n",
       "      <td>I have new #DonaldDuck pyjamas that will be pa...</td>\n",
       "      <td>0</td>\n",
       "      <td>1</td>\n",
       "      <td>0</td>\n",
       "      <td>2019-10-28</td>\n",
       "      <td>Mon Oct 28 09:40:58 +0000 2019</td>\n",
       "      <td>#DonaldDuck #workingfromhome #wfh</td>\n",
       "      <td>https://twitter.com/writer_SDW/status/11887525...</td>\n",
       "    </tr>\n",
       "    <tr>\n",
       "      <td>4</td>\n",
       "      <td>4</td>\n",
       "      <td>NappingActivist</td>\n",
       "      <td>the best part of working from home on Fridays ...</td>\n",
       "      <td>2</td>\n",
       "      <td>1</td>\n",
       "      <td>0</td>\n",
       "      <td>2019-10-24</td>\n",
       "      <td>Thu Oct 24 20:40:58 +0000 2019</td>\n",
       "      <td>#cheekynap #workingfromhome #wfh #naptivist #n...</td>\n",
       "      <td>https://twitter.com/NappingActivist/status/118...</td>\n",
       "    </tr>\n",
       "    <tr>\n",
       "      <td>...</td>\n",
       "      <td>...</td>\n",
       "      <td>...</td>\n",
       "      <td>...</td>\n",
       "      <td>...</td>\n",
       "      <td>...</td>\n",
       "      <td>...</td>\n",
       "      <td>...</td>\n",
       "      <td>...</td>\n",
       "      <td>...</td>\n",
       "      <td>...</td>\n",
       "    </tr>\n",
       "    <tr>\n",
       "      <td>7790</td>\n",
       "      <td>7790</td>\n",
       "      <td>SoundIntriguing</td>\n",
       "      <td>Working from home? Not a problem! #Workingfrom...</td>\n",
       "      <td>0</td>\n",
       "      <td>1</td>\n",
       "      <td>0</td>\n",
       "      <td>2020-06-01</td>\n",
       "      <td>Mon Jun 01 12:19:54 +0000 2020</td>\n",
       "      <td>#Workingfromhome #challenging #poweroutage #co...</td>\n",
       "      <td>https://twitter.com/SoundIntriguing/status/126...</td>\n",
       "    </tr>\n",
       "    <tr>\n",
       "      <td>7791</td>\n",
       "      <td>7791</td>\n",
       "      <td>Superstruct_ENG</td>\n",
       "      <td>As another new month begins during the #COVID-...</td>\n",
       "      <td>0</td>\n",
       "      <td>1</td>\n",
       "      <td>0</td>\n",
       "      <td>2020-06-01</td>\n",
       "      <td>Mon Jun 01 10:04:42 +0000 2020</td>\n",
       "      <td>#COVID #Superstructures #StructuralEngineering...</td>\n",
       "      <td>https://twitter.com/Superstruct_ENG/status/126...</td>\n",
       "    </tr>\n",
       "    <tr>\n",
       "      <td>7792</td>\n",
       "      <td>7792</td>\n",
       "      <td>LindaKagyu</td>\n",
       "      <td>A sign of the times #COVID__19 #remoteworking ...</td>\n",
       "      <td>1</td>\n",
       "      <td>2</td>\n",
       "      <td>0</td>\n",
       "      <td>2020-06-01</td>\n",
       "      <td>Mon Jun 01 08:44:56 +0000 2020</td>\n",
       "      <td>#COVID__19 #remoteworking #workingfromhome #In...</td>\n",
       "      <td>https://twitter.com/LindaKagyu/status/12673765...</td>\n",
       "    </tr>\n",
       "    <tr>\n",
       "      <td>7793</td>\n",
       "      <td>7793</td>\n",
       "      <td>StiKtoonz</td>\n",
       "      <td>Part 56 of the Working from home series. Stay ...</td>\n",
       "      <td>5</td>\n",
       "      <td>7</td>\n",
       "      <td>1</td>\n",
       "      <td>2020-06-01</td>\n",
       "      <td>Mon Jun 01 07:02:14 +0000 2020</td>\n",
       "      <td>#StayHome #StayHome #COVID_19uk #covid_19 #cow...</td>\n",
       "      <td>https://twitter.com/StiKtoonz/status/126735072...</td>\n",
       "    </tr>\n",
       "    <tr>\n",
       "      <td>7794</td>\n",
       "      <td>7794</td>\n",
       "      <td>AbuBakaar_29</td>\n",
       "      <td>Lockdown extended till 30 june...and I am like...</td>\n",
       "      <td>1</td>\n",
       "      <td>0</td>\n",
       "      <td>0</td>\n",
       "      <td>2020-06-01</td>\n",
       "      <td>Mon Jun 01 04:28:55 +0000 2020</td>\n",
       "      <td>#lockdown #kashmir #kupwara #meme #funny #high...</td>\n",
       "      <td>https://twitter.com/AbuBakaar_29/status/126731...</td>\n",
       "    </tr>\n",
       "  </tbody>\n",
       "</table>\n",
       "<p>7319 rows × 10 columns</p>\n",
       "</div>"
      ],
      "text/plain": [
       "      Unnamed: 0       Tweet User  \\\n",
       "0              0           Homeys   \n",
       "1              1    JordanTechPro   \n",
       "2              2    mitzi_gesabel   \n",
       "3              3       writer_SDW   \n",
       "4              4  NappingActivist   \n",
       "...          ...              ...   \n",
       "7790        7790  SoundIntriguing   \n",
       "7791        7791  Superstruct_ENG   \n",
       "7792        7792       LindaKagyu   \n",
       "7793        7793        StiKtoonz   \n",
       "7794        7794     AbuBakaar_29   \n",
       "\n",
       "                                                   Text  Retweets  Favorites  \\\n",
       "0     Working from Homeys - Although, we do take our...         0          0   \n",
       "1     Today’s #crumbshot and a delicious ham and che...         0          0   \n",
       "2     Working in my Tiger onesie and feeling fierce....         0          0   \n",
       "3     I have new #DonaldDuck pyjamas that will be pa...         0          1   \n",
       "4     the best part of working from home on Fridays ...         2          1   \n",
       "...                                                 ...       ...        ...   \n",
       "7790  Working from home? Not a problem! #Workingfrom...         0          1   \n",
       "7791  As another new month begins during the #COVID-...         0          1   \n",
       "7792  A sign of the times #COVID__19 #remoteworking ...         1          2   \n",
       "7793  Part 56 of the Working from home series. Stay ...         5          7   \n",
       "7794  Lockdown extended till 30 june...and I am like...         1          0   \n",
       "\n",
       "      Replies    Datetime                   FormattedDate  \\\n",
       "0           0  2019-09-24  Tue Sep 24 09:30:00 +0000 2019   \n",
       "1           0  2019-09-05  Thu Sep 05 12:18:22 +0000 2019   \n",
       "2           0  2019-10-28  Mon Oct 28 18:59:51 +0000 2019   \n",
       "3           0  2019-10-28  Mon Oct 28 09:40:58 +0000 2019   \n",
       "4           0  2019-10-24  Thu Oct 24 20:40:58 +0000 2019   \n",
       "...       ...         ...                             ...   \n",
       "7790        0  2020-06-01  Mon Jun 01 12:19:54 +0000 2020   \n",
       "7791        0  2020-06-01  Mon Jun 01 10:04:42 +0000 2020   \n",
       "7792        0  2020-06-01  Mon Jun 01 08:44:56 +0000 2020   \n",
       "7793        1  2020-06-01  Mon Jun 01 07:02:14 +0000 2020   \n",
       "7794        0  2020-06-01  Mon Jun 01 04:28:55 +0000 2020   \n",
       "\n",
       "                                               Hashtags  \\\n",
       "0     #WFHomeys #MyHomeys #British #UkFashion #SoCom...   \n",
       "1     #crumbshot #SourdoughSeptember #workingfromhom...   \n",
       "2                      #workingfromhome #wfh #pjsallday   \n",
       "3                     #DonaldDuck #workingfromhome #wfh   \n",
       "4     #cheekynap #workingfromhome #wfh #naptivist #n...   \n",
       "...                                                 ...   \n",
       "7790  #Workingfromhome #challenging #poweroutage #co...   \n",
       "7791  #COVID #Superstructures #StructuralEngineering...   \n",
       "7792  #COVID__19 #remoteworking #workingfromhome #In...   \n",
       "7793  #StayHome #StayHome #COVID_19uk #covid_19 #cow...   \n",
       "7794  #lockdown #kashmir #kupwara #meme #funny #high...   \n",
       "\n",
       "                                              Permalink  \n",
       "0     https://twitter.com/Homeys/status/117642856025...  \n",
       "1     https://twitter.com/JordanTechPro/status/11695...  \n",
       "2     https://twitter.com/mitzi_gesabel/status/11888...  \n",
       "3     https://twitter.com/writer_SDW/status/11887525...  \n",
       "4     https://twitter.com/NappingActivist/status/118...  \n",
       "...                                                 ...  \n",
       "7790  https://twitter.com/SoundIntriguing/status/126...  \n",
       "7791  https://twitter.com/Superstruct_ENG/status/126...  \n",
       "7792  https://twitter.com/LindaKagyu/status/12673765...  \n",
       "7793  https://twitter.com/StiKtoonz/status/126735072...  \n",
       "7794  https://twitter.com/AbuBakaar_29/status/126731...  \n",
       "\n",
       "[7319 rows x 10 columns]"
      ]
     },
     "execution_count": 7,
     "metadata": {},
     "output_type": "execute_result"
    }
   ],
   "source": [
    "twitter.dropna()"
   ]
  },
  {
   "cell_type": "code",
   "execution_count": 28,
   "metadata": {},
   "outputs": [],
   "source": [
    "twitter.to_csv(r'after_covid.csv')"
   ]
  },
  {
   "cell_type": "code",
   "execution_count": 30,
   "metadata": {},
   "outputs": [],
   "source": [
    "a=pd.read_csv(r'after.csv')"
   ]
  },
  {
   "cell_type": "code",
   "execution_count": 11,
   "metadata": {
    "scrolled": true
   },
   "outputs": [
    {
     "data": {
      "text/plain": [
       "0                Homeys\n",
       "1         JordanTechPro\n",
       "2         mitzi_gesabel\n",
       "3            writer_SDW\n",
       "4       NappingActivist\n",
       "             ...       \n",
       "7790    SoundIntriguing\n",
       "7791    Superstruct_ENG\n",
       "7792         LindaKagyu\n",
       "7793          StiKtoonz\n",
       "7794       AbuBakaar_29\n",
       "Name: Tweet User, Length: 7795, dtype: object"
      ]
     },
     "execution_count": 11,
     "metadata": {},
     "output_type": "execute_result"
    }
   ],
   "source": [
    "twitter['Tweet User']"
   ]
  },
  {
   "cell_type": "code",
   "execution_count": 33,
   "metadata": {},
   "outputs": [],
   "source": [
    "b1=pd.read_csv(r'b1.csv')"
   ]
  },
  {
   "cell_type": "code",
   "execution_count": 38,
   "metadata": {},
   "outputs": [],
   "source": [
    "b1=b1.drop(columns=['Mentions', 'Tweet to', 'URLs'], axis=1)"
   ]
  },
  {
   "cell_type": "code",
   "execution_count": 43,
   "metadata": {},
   "outputs": [
    {
     "data": {
      "text/html": [
       "<div>\n",
       "<style scoped>\n",
       "    .dataframe tbody tr th:only-of-type {\n",
       "        vertical-align: middle;\n",
       "    }\n",
       "\n",
       "    .dataframe tbody tr th {\n",
       "        vertical-align: top;\n",
       "    }\n",
       "\n",
       "    .dataframe thead th {\n",
       "        text-align: right;\n",
       "    }\n",
       "</style>\n",
       "<table border=\"1\" class=\"dataframe\">\n",
       "  <thead>\n",
       "    <tr style=\"text-align: right;\">\n",
       "      <th></th>\n",
       "      <th>Unnamed: 0</th>\n",
       "      <th>Tweet User</th>\n",
       "      <th>Text</th>\n",
       "      <th>Retweets</th>\n",
       "      <th>Favorites</th>\n",
       "      <th>Replies</th>\n",
       "      <th>Datetime</th>\n",
       "      <th>FormattedDate</th>\n",
       "      <th>Hashtags</th>\n",
       "      <th>Permalink</th>\n",
       "    </tr>\n",
       "  </thead>\n",
       "  <tbody>\n",
       "    <tr>\n",
       "      <td>0</td>\n",
       "      <td>0</td>\n",
       "      <td>Homeys</td>\n",
       "      <td>Working from Homeys - Although, we do take our...</td>\n",
       "      <td>0</td>\n",
       "      <td>0</td>\n",
       "      <td>0</td>\n",
       "      <td>2019-09-24</td>\n",
       "      <td>Tue Sep 24 09:30:00 +0000 2019</td>\n",
       "      <td>#WFHomeys #MyHomeys #British #UkFashion #SoCom...</td>\n",
       "      <td>https://twitter.com/Homeys/status/117642856025...</td>\n",
       "    </tr>\n",
       "    <tr>\n",
       "      <td>1</td>\n",
       "      <td>1</td>\n",
       "      <td>JordanTechPro</td>\n",
       "      <td>Today’s #crumbshot and a delicious ham and che...</td>\n",
       "      <td>0</td>\n",
       "      <td>0</td>\n",
       "      <td>0</td>\n",
       "      <td>2019-09-05</td>\n",
       "      <td>Thu Sep 05 12:18:22 +0000 2019</td>\n",
       "      <td>#crumbshot #SourdoughSeptember #workingfromhom...</td>\n",
       "      <td>https://twitter.com/JordanTechPro/status/11695...</td>\n",
       "    </tr>\n",
       "    <tr>\n",
       "      <td>2</td>\n",
       "      <td>2</td>\n",
       "      <td>mitzi_gesabel</td>\n",
       "      <td>Working in my Tiger onesie and feeling fierce....</td>\n",
       "      <td>0</td>\n",
       "      <td>0</td>\n",
       "      <td>0</td>\n",
       "      <td>2019-10-28</td>\n",
       "      <td>Mon Oct 28 18:59:51 +0000 2019</td>\n",
       "      <td>#workingfromhome #wfh #pjsallday</td>\n",
       "      <td>https://twitter.com/mitzi_gesabel/status/11888...</td>\n",
       "    </tr>\n",
       "    <tr>\n",
       "      <td>3</td>\n",
       "      <td>3</td>\n",
       "      <td>writer_SDW</td>\n",
       "      <td>I have new #DonaldDuck pyjamas that will be pa...</td>\n",
       "      <td>0</td>\n",
       "      <td>1</td>\n",
       "      <td>0</td>\n",
       "      <td>2019-10-28</td>\n",
       "      <td>Mon Oct 28 09:40:58 +0000 2019</td>\n",
       "      <td>#DonaldDuck #workingfromhome #wfh</td>\n",
       "      <td>https://twitter.com/writer_SDW/status/11887525...</td>\n",
       "    </tr>\n",
       "    <tr>\n",
       "      <td>4</td>\n",
       "      <td>4</td>\n",
       "      <td>NappingActivist</td>\n",
       "      <td>the best part of working from home on Fridays ...</td>\n",
       "      <td>2</td>\n",
       "      <td>1</td>\n",
       "      <td>0</td>\n",
       "      <td>2019-10-24</td>\n",
       "      <td>Thu Oct 24 20:40:58 +0000 2019</td>\n",
       "      <td>#cheekynap #workingfromhome #wfh #naptivist #n...</td>\n",
       "      <td>https://twitter.com/NappingActivist/status/118...</td>\n",
       "    </tr>\n",
       "    <tr>\n",
       "      <td>...</td>\n",
       "      <td>...</td>\n",
       "      <td>...</td>\n",
       "      <td>...</td>\n",
       "      <td>...</td>\n",
       "      <td>...</td>\n",
       "      <td>...</td>\n",
       "      <td>...</td>\n",
       "      <td>...</td>\n",
       "      <td>...</td>\n",
       "      <td>...</td>\n",
       "    </tr>\n",
       "    <tr>\n",
       "      <td>7790</td>\n",
       "      <td>7790</td>\n",
       "      <td>SoundIntriguing</td>\n",
       "      <td>Working from home? Not a problem! #Workingfrom...</td>\n",
       "      <td>0</td>\n",
       "      <td>1</td>\n",
       "      <td>0</td>\n",
       "      <td>2020-06-01</td>\n",
       "      <td>Mon Jun 01 12:19:54 +0000 2020</td>\n",
       "      <td>#Workingfromhome #challenging #poweroutage #co...</td>\n",
       "      <td>https://twitter.com/SoundIntriguing/status/126...</td>\n",
       "    </tr>\n",
       "    <tr>\n",
       "      <td>7791</td>\n",
       "      <td>7791</td>\n",
       "      <td>Superstruct_ENG</td>\n",
       "      <td>As another new month begins during the #COVID-...</td>\n",
       "      <td>0</td>\n",
       "      <td>1</td>\n",
       "      <td>0</td>\n",
       "      <td>2020-06-01</td>\n",
       "      <td>Mon Jun 01 10:04:42 +0000 2020</td>\n",
       "      <td>#COVID #Superstructures #StructuralEngineering...</td>\n",
       "      <td>https://twitter.com/Superstruct_ENG/status/126...</td>\n",
       "    </tr>\n",
       "    <tr>\n",
       "      <td>7792</td>\n",
       "      <td>7792</td>\n",
       "      <td>LindaKagyu</td>\n",
       "      <td>A sign of the times #COVID__19 #remoteworking ...</td>\n",
       "      <td>1</td>\n",
       "      <td>2</td>\n",
       "      <td>0</td>\n",
       "      <td>2020-06-01</td>\n",
       "      <td>Mon Jun 01 08:44:56 +0000 2020</td>\n",
       "      <td>#COVID__19 #remoteworking #workingfromhome #In...</td>\n",
       "      <td>https://twitter.com/LindaKagyu/status/12673765...</td>\n",
       "    </tr>\n",
       "    <tr>\n",
       "      <td>7793</td>\n",
       "      <td>7793</td>\n",
       "      <td>StiKtoonz</td>\n",
       "      <td>Part 56 of the Working from home series. Stay ...</td>\n",
       "      <td>5</td>\n",
       "      <td>7</td>\n",
       "      <td>1</td>\n",
       "      <td>2020-06-01</td>\n",
       "      <td>Mon Jun 01 07:02:14 +0000 2020</td>\n",
       "      <td>#StayHome #StayHome #COVID_19uk #covid_19 #cow...</td>\n",
       "      <td>https://twitter.com/StiKtoonz/status/126735072...</td>\n",
       "    </tr>\n",
       "    <tr>\n",
       "      <td>7794</td>\n",
       "      <td>7794</td>\n",
       "      <td>AbuBakaar_29</td>\n",
       "      <td>Lockdown extended till 30 june...and I am like...</td>\n",
       "      <td>1</td>\n",
       "      <td>0</td>\n",
       "      <td>0</td>\n",
       "      <td>2020-06-01</td>\n",
       "      <td>Mon Jun 01 04:28:55 +0000 2020</td>\n",
       "      <td>#lockdown #kashmir #kupwara #meme #funny #high...</td>\n",
       "      <td>https://twitter.com/AbuBakaar_29/status/126731...</td>\n",
       "    </tr>\n",
       "  </tbody>\n",
       "</table>\n",
       "<p>7795 rows × 10 columns</p>\n",
       "</div>"
      ],
      "text/plain": [
       "      Unnamed: 0       Tweet User  \\\n",
       "0              0           Homeys   \n",
       "1              1    JordanTechPro   \n",
       "2              2    mitzi_gesabel   \n",
       "3              3       writer_SDW   \n",
       "4              4  NappingActivist   \n",
       "...          ...              ...   \n",
       "7790        7790  SoundIntriguing   \n",
       "7791        7791  Superstruct_ENG   \n",
       "7792        7792       LindaKagyu   \n",
       "7793        7793        StiKtoonz   \n",
       "7794        7794     AbuBakaar_29   \n",
       "\n",
       "                                                   Text  Retweets  Favorites  \\\n",
       "0     Working from Homeys - Although, we do take our...         0          0   \n",
       "1     Today’s #crumbshot and a delicious ham and che...         0          0   \n",
       "2     Working in my Tiger onesie and feeling fierce....         0          0   \n",
       "3     I have new #DonaldDuck pyjamas that will be pa...         0          1   \n",
       "4     the best part of working from home on Fridays ...         2          1   \n",
       "...                                                 ...       ...        ...   \n",
       "7790  Working from home? Not a problem! #Workingfrom...         0          1   \n",
       "7791  As another new month begins during the #COVID-...         0          1   \n",
       "7792  A sign of the times #COVID__19 #remoteworking ...         1          2   \n",
       "7793  Part 56 of the Working from home series. Stay ...         5          7   \n",
       "7794  Lockdown extended till 30 june...and I am like...         1          0   \n",
       "\n",
       "      Replies    Datetime                   FormattedDate  \\\n",
       "0           0  2019-09-24  Tue Sep 24 09:30:00 +0000 2019   \n",
       "1           0  2019-09-05  Thu Sep 05 12:18:22 +0000 2019   \n",
       "2           0  2019-10-28  Mon Oct 28 18:59:51 +0000 2019   \n",
       "3           0  2019-10-28  Mon Oct 28 09:40:58 +0000 2019   \n",
       "4           0  2019-10-24  Thu Oct 24 20:40:58 +0000 2019   \n",
       "...       ...         ...                             ...   \n",
       "7790        0  2020-06-01  Mon Jun 01 12:19:54 +0000 2020   \n",
       "7791        0  2020-06-01  Mon Jun 01 10:04:42 +0000 2020   \n",
       "7792        0  2020-06-01  Mon Jun 01 08:44:56 +0000 2020   \n",
       "7793        1  2020-06-01  Mon Jun 01 07:02:14 +0000 2020   \n",
       "7794        0  2020-06-01  Mon Jun 01 04:28:55 +0000 2020   \n",
       "\n",
       "                                               Hashtags  \\\n",
       "0     #WFHomeys #MyHomeys #British #UkFashion #SoCom...   \n",
       "1     #crumbshot #SourdoughSeptember #workingfromhom...   \n",
       "2                      #workingfromhome #wfh #pjsallday   \n",
       "3                     #DonaldDuck #workingfromhome #wfh   \n",
       "4     #cheekynap #workingfromhome #wfh #naptivist #n...   \n",
       "...                                                 ...   \n",
       "7790  #Workingfromhome #challenging #poweroutage #co...   \n",
       "7791  #COVID #Superstructures #StructuralEngineering...   \n",
       "7792  #COVID__19 #remoteworking #workingfromhome #In...   \n",
       "7793  #StayHome #StayHome #COVID_19uk #covid_19 #cow...   \n",
       "7794  #lockdown #kashmir #kupwara #meme #funny #high...   \n",
       "\n",
       "                                              Permalink  \n",
       "0     https://twitter.com/Homeys/status/117642856025...  \n",
       "1     https://twitter.com/JordanTechPro/status/11695...  \n",
       "2     https://twitter.com/mitzi_gesabel/status/11888...  \n",
       "3     https://twitter.com/writer_SDW/status/11887525...  \n",
       "4     https://twitter.com/NappingActivist/status/118...  \n",
       "...                                                 ...  \n",
       "7790  https://twitter.com/SoundIntriguing/status/126...  \n",
       "7791  https://twitter.com/Superstruct_ENG/status/126...  \n",
       "7792  https://twitter.com/LindaKagyu/status/12673765...  \n",
       "7793  https://twitter.com/StiKtoonz/status/126735072...  \n",
       "7794  https://twitter.com/AbuBakaar_29/status/126731...  \n",
       "\n",
       "[7795 rows x 10 columns]"
      ]
     },
     "execution_count": 43,
     "metadata": {},
     "output_type": "execute_result"
    }
   ],
   "source": [
    "a1=pd.read_csv(r'after_covid.csv')\n",
    "a1"
   ]
  },
  {
   "cell_type": "code",
   "execution_count": 44,
   "metadata": {},
   "outputs": [],
   "source": [
    "a1=a1.drop(columns=['Unnamed: 0'], axis=1)"
   ]
  },
  {
   "cell_type": "code",
   "execution_count": 46,
   "metadata": {},
   "outputs": [
    {
     "data": {
      "text/html": [
       "<div>\n",
       "<style scoped>\n",
       "    .dataframe tbody tr th:only-of-type {\n",
       "        vertical-align: middle;\n",
       "    }\n",
       "\n",
       "    .dataframe tbody tr th {\n",
       "        vertical-align: top;\n",
       "    }\n",
       "\n",
       "    .dataframe thead th {\n",
       "        text-align: right;\n",
       "    }\n",
       "</style>\n",
       "<table border=\"1\" class=\"dataframe\">\n",
       "  <thead>\n",
       "    <tr style=\"text-align: right;\">\n",
       "      <th></th>\n",
       "      <th>Tweet User</th>\n",
       "      <th>Text</th>\n",
       "      <th>Retweets</th>\n",
       "      <th>Favorites</th>\n",
       "      <th>Replies</th>\n",
       "      <th>Datetime</th>\n",
       "      <th>FormattedDate</th>\n",
       "      <th>Hashtags</th>\n",
       "      <th>Permalink</th>\n",
       "    </tr>\n",
       "  </thead>\n",
       "  <tbody>\n",
       "    <tr>\n",
       "      <td>0</td>\n",
       "      <td>themorph</td>\n",
       "      <td>So, #Boris to father another child. If he keep...</td>\n",
       "      <td>2</td>\n",
       "      <td>0</td>\n",
       "      <td>0</td>\n",
       "      <td>2020-02-29 23:49:46+00:00</td>\n",
       "      <td>Sat Feb 29 23:49:46 +0000 2020</td>\n",
       "      <td>#Boris #workingfromhome</td>\n",
       "      <td>https://twitter.com/themorph/status/1233902211...</td>\n",
       "    </tr>\n",
       "    <tr>\n",
       "      <td>1</td>\n",
       "      <td>BlackCardBiz</td>\n",
       "      <td>#GetPaid #WorkingFromHome Learn to be blessed....</td>\n",
       "      <td>0</td>\n",
       "      <td>1</td>\n",
       "      <td>0</td>\n",
       "      <td>2020-02-29 21:41:58+00:00</td>\n",
       "      <td>Sat Feb 29 21:41:58 +0000 2020</td>\n",
       "      <td>#GetPaid #WorkingFromHome</td>\n",
       "      <td>https://twitter.com/BlackCardBiz/status/123387...</td>\n",
       "    </tr>\n",
       "    <tr>\n",
       "      <td>2</td>\n",
       "      <td>kimschob</td>\n",
       "      <td>Why “This is How I did it” Formulas Almost Nev...</td>\n",
       "      <td>0</td>\n",
       "      <td>0</td>\n",
       "      <td>0</td>\n",
       "      <td>2020-02-29 18:00:05+00:00</td>\n",
       "      <td>Sat Feb 29 18:00:05 +0000 2020</td>\n",
       "      <td>#workingfromhome</td>\n",
       "      <td>https://twitter.com/kimschob/status/1233814211...</td>\n",
       "    </tr>\n",
       "    <tr>\n",
       "      <td>3</td>\n",
       "      <td>fusion_shed</td>\n",
       "      <td>Bending glass stringers over an open flame #th...</td>\n",
       "      <td>0</td>\n",
       "      <td>0</td>\n",
       "      <td>0</td>\n",
       "      <td>2020-02-29 17:04:56+00:00</td>\n",
       "      <td>Sat Feb 29 17:04:56 +0000 2020</td>\n",
       "      <td>#thefusionshed #fusedglass #fusedglassart #gla...</td>\n",
       "      <td>https://twitter.com/fusion_shed/status/1233800...</td>\n",
       "    </tr>\n",
       "    <tr>\n",
       "      <td>4</td>\n",
       "      <td>Claromentis</td>\n",
       "      <td>70% of people around the world work remotely a...</td>\n",
       "      <td>0</td>\n",
       "      <td>0</td>\n",
       "      <td>0</td>\n",
       "      <td>2020-02-29 16:14:02+00:00</td>\n",
       "      <td>Sat Feb 29 16:14:02 +0000 2020</td>\n",
       "      <td>#RemoteWorking #Blog #WorkingFromHome</td>\n",
       "      <td>https://twitter.com/Claromentis/status/1233787...</td>\n",
       "    </tr>\n",
       "    <tr>\n",
       "      <td>...</td>\n",
       "      <td>...</td>\n",
       "      <td>...</td>\n",
       "      <td>...</td>\n",
       "      <td>...</td>\n",
       "      <td>...</td>\n",
       "      <td>...</td>\n",
       "      <td>...</td>\n",
       "      <td>...</td>\n",
       "      <td>...</td>\n",
       "    </tr>\n",
       "    <tr>\n",
       "      <td>2117</td>\n",
       "      <td>bryanhellard</td>\n",
       "      <td>3-5\" of snow in the forecast overnight. Want t...</td>\n",
       "      <td>0</td>\n",
       "      <td>7</td>\n",
       "      <td>0</td>\n",
       "      <td>2019-12-15 22:11:20+00:00</td>\n",
       "      <td>Sun Dec 15 22:11:20 +0000 2019</td>\n",
       "      <td>#workingfromhome</td>\n",
       "      <td>https://twitter.com/bryanhellard/status/120633...</td>\n",
       "    </tr>\n",
       "    <tr>\n",
       "      <td>2118</td>\n",
       "      <td>JoanneDewberry</td>\n",
       "      <td>Why You Should Invest in a Standing Desk https...</td>\n",
       "      <td>0</td>\n",
       "      <td>1</td>\n",
       "      <td>0</td>\n",
       "      <td>2019-12-15 20:26:00+00:00</td>\n",
       "      <td>Sun Dec 15 20:26:00 +0000 2019</td>\n",
       "      <td>#workingfromhome #standingdesk</td>\n",
       "      <td>https://twitter.com/JoanneDewberry/status/1206...</td>\n",
       "    </tr>\n",
       "    <tr>\n",
       "      <td>2119</td>\n",
       "      <td>MobileAppMogul</td>\n",
       "      <td>\"Hearing that message, I had a spiritual and m...</td>\n",
       "      <td>0</td>\n",
       "      <td>0</td>\n",
       "      <td>0</td>\n",
       "      <td>2019-12-15 17:46:16+00:00</td>\n",
       "      <td>Sun Dec 15 17:46:16 +0000 2019</td>\n",
       "      <td>#affiliatemarketing #legendarymarketer #digita...</td>\n",
       "      <td>https://twitter.com/MobileAppMogul/status/1206...</td>\n",
       "    </tr>\n",
       "    <tr>\n",
       "      <td>2120</td>\n",
       "      <td>JoanneDewberry</td>\n",
       "      <td>There's still time to fit in a Christmas Party...</td>\n",
       "      <td>1</td>\n",
       "      <td>1</td>\n",
       "      <td>0</td>\n",
       "      <td>2019-12-15 17:43:53+00:00</td>\n",
       "      <td>Sun Dec 15 17:43:53 +0000 2019</td>\n",
       "      <td>#selfemployed #mumsinbiz #workingfromhome</td>\n",
       "      <td>https://twitter.com/JoanneDewberry/status/1206...</td>\n",
       "    </tr>\n",
       "    <tr>\n",
       "      <td>2121</td>\n",
       "      <td>MrsPTweeting</td>\n",
       "      <td>Trying to do a bit of work but I *think* Jeff ...</td>\n",
       "      <td>0</td>\n",
       "      <td>3</td>\n",
       "      <td>0</td>\n",
       "      <td>2019-12-15 13:24:02+00:00</td>\n",
       "      <td>Sun Dec 15 13:24:02 +0000 2019</td>\n",
       "      <td>#catsoftwitter #workingfromhome</td>\n",
       "      <td>https://twitter.com/MrsPTweeting/status/120620...</td>\n",
       "    </tr>\n",
       "  </tbody>\n",
       "</table>\n",
       "<p>2122 rows × 9 columns</p>\n",
       "</div>"
      ],
      "text/plain": [
       "          Tweet User                                               Text  \\\n",
       "0           themorph  So, #Boris to father another child. If he keep...   \n",
       "1       BlackCardBiz  #GetPaid #WorkingFromHome Learn to be blessed....   \n",
       "2           kimschob  Why “This is How I did it” Formulas Almost Nev...   \n",
       "3        fusion_shed  Bending glass stringers over an open flame #th...   \n",
       "4        Claromentis  70% of people around the world work remotely a...   \n",
       "...              ...                                                ...   \n",
       "2117    bryanhellard  3-5\" of snow in the forecast overnight. Want t...   \n",
       "2118  JoanneDewberry  Why You Should Invest in a Standing Desk https...   \n",
       "2119  MobileAppMogul  \"Hearing that message, I had a spiritual and m...   \n",
       "2120  JoanneDewberry  There's still time to fit in a Christmas Party...   \n",
       "2121    MrsPTweeting  Trying to do a bit of work but I *think* Jeff ...   \n",
       "\n",
       "      Retweets  Favorites  Replies                   Datetime  \\\n",
       "0            2          0        0  2020-02-29 23:49:46+00:00   \n",
       "1            0          1        0  2020-02-29 21:41:58+00:00   \n",
       "2            0          0        0  2020-02-29 18:00:05+00:00   \n",
       "3            0          0        0  2020-02-29 17:04:56+00:00   \n",
       "4            0          0        0  2020-02-29 16:14:02+00:00   \n",
       "...        ...        ...      ...                        ...   \n",
       "2117         0          7        0  2019-12-15 22:11:20+00:00   \n",
       "2118         0          1        0  2019-12-15 20:26:00+00:00   \n",
       "2119         0          0        0  2019-12-15 17:46:16+00:00   \n",
       "2120         1          1        0  2019-12-15 17:43:53+00:00   \n",
       "2121         0          3        0  2019-12-15 13:24:02+00:00   \n",
       "\n",
       "                       FormattedDate  \\\n",
       "0     Sat Feb 29 23:49:46 +0000 2020   \n",
       "1     Sat Feb 29 21:41:58 +0000 2020   \n",
       "2     Sat Feb 29 18:00:05 +0000 2020   \n",
       "3     Sat Feb 29 17:04:56 +0000 2020   \n",
       "4     Sat Feb 29 16:14:02 +0000 2020   \n",
       "...                              ...   \n",
       "2117  Sun Dec 15 22:11:20 +0000 2019   \n",
       "2118  Sun Dec 15 20:26:00 +0000 2019   \n",
       "2119  Sun Dec 15 17:46:16 +0000 2019   \n",
       "2120  Sun Dec 15 17:43:53 +0000 2019   \n",
       "2121  Sun Dec 15 13:24:02 +0000 2019   \n",
       "\n",
       "                                               Hashtags  \\\n",
       "0                               #Boris #workingfromhome   \n",
       "1                             #GetPaid #WorkingFromHome   \n",
       "2                                      #workingfromhome   \n",
       "3     #thefusionshed #fusedglass #fusedglassart #gla...   \n",
       "4                 #RemoteWorking #Blog #WorkingFromHome   \n",
       "...                                                 ...   \n",
       "2117                                   #workingfromhome   \n",
       "2118                     #workingfromhome #standingdesk   \n",
       "2119  #affiliatemarketing #legendarymarketer #digita...   \n",
       "2120          #selfemployed #mumsinbiz #workingfromhome   \n",
       "2121                    #catsoftwitter #workingfromhome   \n",
       "\n",
       "                                              Permalink  \n",
       "0     https://twitter.com/themorph/status/1233902211...  \n",
       "1     https://twitter.com/BlackCardBiz/status/123387...  \n",
       "2     https://twitter.com/kimschob/status/1233814211...  \n",
       "3     https://twitter.com/fusion_shed/status/1233800...  \n",
       "4     https://twitter.com/Claromentis/status/1233787...  \n",
       "...                                                 ...  \n",
       "2117  https://twitter.com/bryanhellard/status/120633...  \n",
       "2118  https://twitter.com/JoanneDewberry/status/1206...  \n",
       "2119  https://twitter.com/MobileAppMogul/status/1206...  \n",
       "2120  https://twitter.com/JoanneDewberry/status/1206...  \n",
       "2121  https://twitter.com/MrsPTweeting/status/120620...  \n",
       "\n",
       "[2122 rows x 9 columns]"
      ]
     },
     "execution_count": 46,
     "metadata": {},
     "output_type": "execute_result"
    }
   ],
   "source": [
    "data"
   ]
  },
  {
   "cell_type": "code",
   "execution_count": null,
   "metadata": {},
   "outputs": [],
   "source": []
  }
 ],
 "metadata": {
  "kernelspec": {
   "display_name": "Python 3",
   "language": "python",
   "name": "python3"
  },
  "language_info": {
   "codemirror_mode": {
    "name": "ipython",
    "version": 3
   },
   "file_extension": ".py",
   "mimetype": "text/x-python",
   "name": "python",
   "nbconvert_exporter": "python",
   "pygments_lexer": "ipython3",
   "version": "3.7.4"
  }
 },
 "nbformat": 4,
 "nbformat_minor": 2
}
